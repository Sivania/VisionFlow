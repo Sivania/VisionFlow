{
 "cells": [
  {
   "cell_type": "code",
   "execution_count": 4,
   "metadata": {},
   "outputs": [
    {
     "ename": "ImportError",
     "evalue": "cannot import name 'BaseFlow' from 'actions.base_flow' (c:\\Users\\emily\\Documents\\GitHub\\VisionFlow\\backend\\actions\\base_flow.py)",
     "output_type": "error",
     "traceback": [
      "\u001b[1;31m---------------------------------------------------------------------------\u001b[0m",
      "\u001b[1;31mImportError\u001b[0m                               Traceback (most recent call last)",
      "Cell \u001b[1;32mIn[4], line 1\u001b[0m\n\u001b[1;32m----> 1\u001b[0m \u001b[38;5;28;01mfrom\u001b[39;00m \u001b[38;5;21;01mactions\u001b[39;00m\u001b[38;5;21;01m.\u001b[39;00m\u001b[38;5;21;01mmouse\u001b[39;00m\u001b[38;5;21;01m.\u001b[39;00m\u001b[38;5;21;01mmove_mouse\u001b[39;00m \u001b[38;5;28;01mimport\u001b[39;00m MoveMouse\n\u001b[0;32m      2\u001b[0m \u001b[38;5;28;01mfrom\u001b[39;00m \u001b[38;5;21;01mactions\u001b[39;00m\u001b[38;5;21;01m.\u001b[39;00m\u001b[38;5;21;01mwait\u001b[39;00m\u001b[38;5;21;01m.\u001b[39;00m\u001b[38;5;21;01mwait\u001b[39;00m \u001b[38;5;28;01mimport\u001b[39;00m Wait\n\u001b[0;32m      3\u001b[0m \u001b[38;5;28;01mfrom\u001b[39;00m \u001b[38;5;21;01mactions\u001b[39;00m\u001b[38;5;21;01m.\u001b[39;00m\u001b[38;5;21;01mmouse\u001b[39;00m\u001b[38;5;21;01m.\u001b[39;00m\u001b[38;5;21;01mhold_mouse\u001b[39;00m \u001b[38;5;28;01mimport\u001b[39;00m HoldMouse\n",
      "File \u001b[1;32mc:\\Users\\emily\\Documents\\GitHub\\VisionFlow\\backend\\actions\\mouse\\move_mouse.py:6\u001b[0m\n\u001b[0;32m      3\u001b[0m \u001b[38;5;28;01mimport\u001b[39;00m \u001b[38;5;21;01mtime\u001b[39;00m\n\u001b[0;32m      4\u001b[0m \u001b[38;5;28;01mimport\u001b[39;00m \u001b[38;5;21;01mrandom\u001b[39;00m\n\u001b[1;32m----> 6\u001b[0m \u001b[38;5;28;01mfrom\u001b[39;00m \u001b[38;5;21;01mactions\u001b[39;00m\u001b[38;5;21;01m.\u001b[39;00m\u001b[38;5;21;01mbase_flow\u001b[39;00m \u001b[38;5;28;01mimport\u001b[39;00m BaseFlow\n\u001b[0;32m      8\u001b[0m \u001b[38;5;28;01mclass\u001b[39;00m \u001b[38;5;21;01mMoveMouse\u001b[39;00m(BaseFlow):\n\u001b[0;32m      9\u001b[0m     \u001b[38;5;28;01mdef\u001b[39;00m \u001b[38;5;21m__init__\u001b[39m(\u001b[38;5;28mself\u001b[39m, x, y, subactions\u001b[38;5;241m=\u001b[39m\u001b[38;5;28;01mNone\u001b[39;00m):\n",
      "\u001b[1;31mImportError\u001b[0m: cannot import name 'BaseFlow' from 'actions.base_flow' (c:\\Users\\emily\\Documents\\GitHub\\VisionFlow\\backend\\actions\\base_flow.py)"
     ]
    }
   ],
   "source": [
    "from actions.mouse.move_mouse import MoveMouse\n",
    "from actions.wait.wait import Wait\n",
    "from actions.mouse.hold_mouse import HoldMouse\n",
    "from actions.mouse.release_mouse import ReleaseMouse\n",
    "move_action = MoveMouse(100, 500)\n",
    "move_action1 = MoveMouse(500, 500)\n",
    "move_action2 = MoveMouse(600, 700)\n",
    "wait = Wait(2000)\n",
    "release = ReleaseMouse()\n",
    "hold = HoldMouse()\n",
    "\n",
    "wait.perform()\n",
    "move_action.perform()\n",
    "hold.perform()\n",
    "move_action1.perform()\n",
    "wait = Wait(2000)\n",
    "move_action2.perform()\n",
    "release.perform()"
   ]
  },
  {
   "cell_type": "code",
   "execution_count": 6,
   "metadata": {},
   "outputs": [],
   "source": [
    "import pyautogui\n",
    "import time\n",
    "\n",
    "# Function to gradually move the mouse\n",
    "def gradual_move(start_x, start_y, end_x, end_y, duration=1):\n",
    "    steps = 30  # More steps for smoother movement\n",
    "    step_duration = duration / steps\n",
    "    x_step = (end_x - start_x) / steps\n",
    "    y_step = (end_y - start_y) / steps\n",
    "\n",
    "    for i in range(steps):\n",
    "        pyautogui.moveTo(start_x + i * x_step, start_y + i * y_step, duration=step_duration)\n",
    "        time.sleep(step_duration)  # Brief pause for the application to register the drawing\n",
    "\n",
    "# Start the drawing\n",
    "pyautogui.moveTo(400, 400)\n",
    "pyautogui.mouseDown()\n",
    "\n",
    "# Gradually move to the end position\n",
    "gradual_move(400, 400, 200, 200)\n",
    "\n",
    "# End the drawing\n",
    "pyautogui.mouseUp()"
   ]
  }
 ],
 "metadata": {
  "kernelspec": {
   "display_name": "Python 3",
   "language": "python",
   "name": "python3"
  },
  "language_info": {
   "codemirror_mode": {
    "name": "ipython",
    "version": 3
   },
   "file_extension": ".py",
   "mimetype": "text/x-python",
   "name": "python",
   "nbconvert_exporter": "python",
   "pygments_lexer": "ipython3",
   "version": "3.11.4"
  }
 },
 "nbformat": 4,
 "nbformat_minor": 2
}
