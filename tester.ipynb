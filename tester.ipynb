{
 "cells": [
  {
   "cell_type": "code",
   "execution_count": 1,
   "metadata": {},
   "outputs": [
    {
     "name": "stdout",
     "output_type": "stream",
     "text": [
      "moving mouse from 100 to 200\n",
      "waiting 5000 milliseconds\n",
      "moving mouse from 100 to 200\n"
     ]
    }
   ],
   "source": [
    "from actions.mouse.move_mouse import MoveMouse\n",
    "from actions.wait.wait import Wait\n",
    "move_action = MoveMouse(100, 200)\n",
    "wait = Wait(5000)\n",
    "\n",
    "move_action.perform()\n",
    "wait.perform()\n",
    "move_action.perform()"
   ]
  }
 ],
 "metadata": {
  "kernelspec": {
   "display_name": "Python 3",
   "language": "python",
   "name": "python3"
  },
  "language_info": {
   "codemirror_mode": {
    "name": "ipython",
    "version": 3
   },
   "file_extension": ".py",
   "mimetype": "text/x-python",
   "name": "python",
   "nbconvert_exporter": "python",
   "pygments_lexer": "ipython3",
   "version": "3.11.4"
  }
 },
 "nbformat": 4,
 "nbformat_minor": 2
}
