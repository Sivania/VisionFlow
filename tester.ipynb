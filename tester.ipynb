{
 "cells": [
  {
   "cell_type": "code",
   "execution_count": 9,
   "metadata": {},
   "outputs": [
    {
     "name": "stdout",
     "output_type": "stream",
     "text": [
      "Performing action: Waiting 2.0 seconds\n",
      "Performing action: moving mouse from 100 to 500\n",
      "Performing action: hold left\n",
      "Performing action: moving mouse from 500 to 500\n",
      "Performing action: moving mouse from 600 to 700\n",
      "Performing action: release  left\n"
     ]
    }
   ],
   "source": [
    "from actions.mouse.move_mouse import MoveMouse\n",
    "from actions.wait.wait import Wait\n",
    "from actions.mouse.hold_mouse import HoldMouse\n",
    "from actions.mouse.release_mouse import ReleaseMouse\n",
    "move_action = MoveMouse(100, 500)\n",
    "move_action1 = MoveMouse(500, 500)\n",
    "move_action2 = MoveMouse(600, 700)\n",
    "wait = Wait(2000)\n",
    "release = ReleaseMouse()\n",
    "hold = HoldMouse()\n",
    "\n",
    "wait.perform()\n",
    "move_action.perform()\n",
    "hold.perform()\n",
    "move_action1.perform()\n",
    "wait = Wait(2000)\n",
    "move_action2.perform()\n",
    "release.perform()"
   ]
  },
  {
   "cell_type": "code",
   "execution_count": 6,
   "metadata": {},
   "outputs": [],
   "source": [
    "import pyautogui\n",
    "import time\n",
    "\n",
    "# Function to gradually move the mouse\n",
    "def gradual_move(start_x, start_y, end_x, end_y, duration=1):\n",
    "    steps = 30  # More steps for smoother movement\n",
    "    step_duration = duration / steps\n",
    "    x_step = (end_x - start_x) / steps\n",
    "    y_step = (end_y - start_y) / steps\n",
    "\n",
    "    for i in range(steps):\n",
    "        pyautogui.moveTo(start_x + i * x_step, start_y + i * y_step, duration=step_duration)\n",
    "        time.sleep(step_duration)  # Brief pause for the application to register the drawing\n",
    "\n",
    "# Start the drawing\n",
    "pyautogui.moveTo(400, 400)\n",
    "pyautogui.mouseDown()\n",
    "\n",
    "# Gradually move to the end position\n",
    "gradual_move(400, 400, 200, 200)\n",
    "\n",
    "# End the drawing\n",
    "pyautogui.mouseUp()"
   ]
  }
 ],
 "metadata": {
  "kernelspec": {
   "display_name": "Python 3",
   "language": "python",
   "name": "python3"
  },
  "language_info": {
   "codemirror_mode": {
    "name": "ipython",
    "version": 3
   },
   "file_extension": ".py",
   "mimetype": "text/x-python",
   "name": "python",
   "nbconvert_exporter": "python",
   "pygments_lexer": "ipython3",
   "version": "3.11.4"
  }
 },
 "nbformat": 4,
 "nbformat_minor": 2
}
